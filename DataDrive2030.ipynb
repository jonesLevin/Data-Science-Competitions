{
  "nbformat": 4,
  "nbformat_minor": 0,
  "metadata": {
    "colab": {
      "provenance": [],
      "authorship_tag": "ABX9TyMbk7i9So4RnnK2C6VsnKrf",
      "include_colab_link": true
    },
    "kernelspec": {
      "name": "python3",
      "display_name": "Python 3"
    },
    "language_info": {
      "name": "python"
    },
    "accelerator": "GPU",
    "gpuClass": "standard"
  },
  "cells": [
    {
      "cell_type": "markdown",
      "metadata": {
        "id": "view-in-github",
        "colab_type": "text"
      },
      "source": [
        "<a href=\"https://colab.research.google.com/github/jonesLevin/Data-Science-Competitions/blob/main/DataDrive2030.ipynb\" target=\"_parent\"><img src=\"https://colab.research.google.com/assets/colab-badge.svg\" alt=\"Open In Colab\"/></a>"
      ]
    },
    {
      "cell_type": "markdown",
      "source": [
        "# DataDrive2030 Early Learning Predictors Challenge\n",
        "Can you identify which features of an early learning programme predict better learning outcomes for children?"
      ],
      "metadata": {
        "id": "5p9bAkkVhnDu"
      }
    },
    {
      "cell_type": "markdown",
      "source": [
        "## Importing Necessary Libraries"
      ],
      "metadata": {
        "id": "H3F54N60IZaA"
      }
    },
    {
      "cell_type": "code",
      "source": [
        "import pandas as pd\n",
        "import numpy as np\n",
        "import matplotlib.pyplot as plt\n",
        "import seaborn as sns\n",
        "import shap\n",
        "\n",
        "# For working with files\n",
        "from glob import glob\n",
        "\n",
        "# Scikit-learn based dependencies\n",
        "from sklearn.impute import SimpleImputer\n",
        "from sklearn.model_selection import train_test_split, KFold, GridSearchCV\n",
        "from sklearn.metrics import mean_squared_error\n",
        "from sklearn.inspection import permutation_importance\n",
        "\n",
        "# Gradient boosting models\n",
        "import catboost\n",
        "import xgboost as xgb\n",
        "import lightgbm as lgbm\n",
        "\n",
        "pd.set_option('display.max_columns', 500)"
      ],
      "metadata": {
        "id": "0h-5LH1Rhnfs"
      },
      "execution_count": null,
      "outputs": []
    },
    {
      "cell_type": "markdown",
      "source": [
        "## Getting The Data"
      ],
      "metadata": {
        "id": "yxPaYUBNJDKX"
      }
    },
    {
      "cell_type": "code",
      "source": [
        "train = pd.read_csv('Train.csv')\n",
        "test = pd.read_csv('Test.csv')\n",
        "sample_sub = pd.read_csv('SampleSubmission.csv')\n",
        "variable_def = pd.read_csv('VariableDescription.csv')"
      ],
      "metadata": {
        "colab": {
          "base_uri": "https://localhost:8080/"
        },
        "id": "X9OzoDP6ihBK",
        "outputId": "5067c9ef-29fd-4025-e210-a540734a85d1"
      },
      "execution_count": null,
      "outputs": [
        {
          "output_type": "stream",
          "name": "stderr",
          "text": [
            "<ipython-input-3-d94a82b48bfa>:1: DtypeWarning: Columns (140,172,254,257,275,306,343,358,373,374,461,635,641,642,643) have mixed types. Specify dtype option on import or set low_memory=False.\n",
            "  train = pd.read_csv('Train.csv')\n",
            "<ipython-input-3-d94a82b48bfa>:2: DtypeWarning: Columns (172,252,254,257,275,343,358,359,461,641,642,643) have mixed types. Specify dtype option on import or set low_memory=False.\n",
            "  test = pd.read_csv('Test.csv')\n"
          ]
        }
      ]
    },
    {
      "cell_type": "code",
      "source": [
        "sample_sub = pd.read_csv('SampleSubmission.csv')"
      ],
      "metadata": {
        "id": "71K177SCFMNB"
      },
      "execution_count": null,
      "outputs": []
    },
    {
      "cell_type": "markdown",
      "source": [
        "## Building A Baseline Model"
      ],
      "metadata": {
        "id": "ZizfejJoJIh8"
      }
    },
    {
      "cell_type": "code",
      "source": [
        "features = []; cat_features = []; not_features = []\n",
        "\n",
        "for col in train.columns[1:]:\n",
        "    if train[col].isnull().sum() <= 6000:\n",
        "        features.append(col)\n",
        "        if train[col].dtype == 'O':\n",
        "            cat_features.append(col)\n",
        "            # print(f'There are {len(train_data[col].value_counts())} class in {col} column') \n",
        "    else:\n",
        "        not_features.append(col)"
      ],
      "metadata": {
        "id": "u6Tkf0BhjGn-"
      },
      "execution_count": null,
      "outputs": []
    },
    {
      "cell_type": "code",
      "source": [
        "train = train[features]\n",
        "test = test[features[:-1]]"
      ],
      "metadata": {
        "id": "pcx9lWLtjRG5"
      },
      "execution_count": null,
      "outputs": []
    },
    {
      "cell_type": "code",
      "source": [
        "train = train.fillna('')\n",
        "test = test.fillna('')"
      ],
      "metadata": {
        "id": "pQ7ogdRqjklI"
      },
      "execution_count": null,
      "outputs": []
    },
    {
      "cell_type": "code",
      "source": [
        "X_train, X_valid, y_train, y_valid = train_test_split(train[train.columns[:-1]],\n",
        "                                                    train[train.columns[-1]],\n",
        "                                                    test_size=0.15,\n",
        "                                                    random_state=42)"
      ],
      "metadata": {
        "id": "AIQ3fuK0jrVM"
      },
      "execution_count": null,
      "outputs": []
    },
    {
      "cell_type": "code",
      "source": [
        "# Building the model\n",
        "X_test = test[features[:-1]]\n",
        "train_dataset = catboost.Pool(data=X_train, label=y_train, cat_features=cat_features)\n",
        "val_dataset = catboost.Pool(data=X_valid, label=y_valid, cat_features=cat_features)\n",
        "model = catboost.CatBoostRegressor(iterations=5000, \n",
        "                                   learning_rate=0.01, \n",
        "                                   random_state=42, \n",
        "                                   verbose=300)\n",
        "model.fit(train_dataset, \n",
        "          eval_set=val_dataset, \n",
        "          use_best_model=True,\n",
        "          early_stopping_rounds=300)\n",
        "preds_valid = model.predict(X_valid)\n",
        "preds_test = model.predict(X_test)\n",
        "print(f'RMSE in validation data: {np.sqrt(mean_squared_error(y_valid, preds_valid))}')"
      ],
      "metadata": {
        "id": "3xdcLNQij2hS",
        "colab": {
          "base_uri": "https://localhost:8080/"
        },
        "outputId": "31cf1c4b-e572-45ab-c5f3-5be43f072275"
      },
      "execution_count": null,
      "outputs": [
        {
          "output_type": "stream",
          "name": "stdout",
          "text": [
            "0:\tlearn: 15.0335364\ttest: 15.5243795\tbest: 15.5243795 (0)\ttotal: 348ms\tremaining: 28m 58s\n",
            "300:\tlearn: 11.1807985\ttest: 11.5581273\tbest: 11.5581273 (300)\ttotal: 1m 45s\tremaining: 27m 21s\n",
            "600:\tlearn: 10.6270211\ttest: 11.1015713\tbest: 11.1015713 (600)\ttotal: 3m 27s\tremaining: 25m 15s\n",
            "900:\tlearn: 10.2637392\ttest: 10.8479739\tbest: 10.8479739 (900)\ttotal: 5m 9s\tremaining: 23m 26s\n",
            "1200:\tlearn: 9.8882885\ttest: 10.6001685\tbest: 10.6001685 (1200)\ttotal: 6m 48s\tremaining: 21m 33s\n",
            "1500:\tlearn: 9.6466273\ttest: 10.4646289\tbest: 10.4646289 (1500)\ttotal: 8m 33s\tremaining: 19m 55s\n",
            "1800:\tlearn: 9.4683362\ttest: 10.3720684\tbest: 10.3720684 (1800)\ttotal: 10m 16s\tremaining: 18m 14s\n",
            "2100:\tlearn: 9.3185313\ttest: 10.3065453\tbest: 10.3065453 (2100)\ttotal: 12m\tremaining: 16m 34s\n",
            "2400:\tlearn: 9.1805414\ttest: 10.2608385\tbest: 10.2608385 (2400)\ttotal: 13m 42s\tremaining: 14m 50s\n",
            "2700:\tlearn: 9.0635278\ttest: 10.2298331\tbest: 10.2298331 (2700)\ttotal: 15m 23s\tremaining: 13m 6s\n",
            "3000:\tlearn: 8.9521098\ttest: 10.1987190\tbest: 10.1987190 (3000)\ttotal: 17m 3s\tremaining: 11m 21s\n",
            "3300:\tlearn: 8.8534254\ttest: 10.1728066\tbest: 10.1728066 (3300)\ttotal: 18m 43s\tremaining: 9m 38s\n",
            "3600:\tlearn: 8.7607416\ttest: 10.1492292\tbest: 10.1492292 (3600)\ttotal: 20m 22s\tremaining: 7m 55s\n",
            "3900:\tlearn: 8.6663975\ttest: 10.1211414\tbest: 10.1209169 (3898)\ttotal: 22m 2s\tremaining: 6m 12s\n",
            "4200:\tlearn: 8.5807348\ttest: 10.0977325\tbest: 10.0977325 (4200)\ttotal: 23m 40s\tremaining: 4m 30s\n",
            "4500:\tlearn: 8.5041150\ttest: 10.0807587\tbest: 10.0807104 (4498)\ttotal: 25m 19s\tremaining: 2m 48s\n",
            "4800:\tlearn: 8.4214797\ttest: 10.0615004\tbest: 10.0614525 (4797)\ttotal: 26m 59s\tremaining: 1m 7s\n",
            "4999:\tlearn: 8.3718844\ttest: 10.0528362\tbest: 10.0525400 (4964)\ttotal: 28m 6s\tremaining: 0us\n",
            "\n",
            "bestTest = 10.05254004\n",
            "bestIteration = 4964\n",
            "\n",
            "Shrink model to first 4965 iterations.\n",
            "RMSE in validation data: 10.050866677024846\n"
          ]
        }
      ]
    },
    {
      "cell_type": "code",
      "source": [
        "import shap\n",
        "explainer = shap.TreeExplainer(model)\n",
        "shap_values = explainer.shap_values(X_test)"
      ],
      "metadata": {
        "id": "_LJCHprCwWG8"
      },
      "execution_count": null,
      "outputs": []
    },
    {
      "cell_type": "code",
      "source": [
        "features = X_test.columns\n",
        "f = dict()\n",
        "f['feature_1'] = []; f['feature_2'] = []; f['feature_3'] = []; f['feature_4'] = []; f['feature_5'] = []; f['feature_6'] = []\n",
        "f['feature_7'] = []; f['feature_8'] = []; f['feature_9'] = []; f['feature_10'] = []; f['feature_11'] = []; f['feature_12'] = []\n",
        "f['feature_13'] = []; f['feature_14'] = []; f['feature_15'] = []"
      ],
      "metadata": {
        "id": "qMf8azLWw8K-"
      },
      "execution_count": null,
      "outputs": []
    },
    {
      "cell_type": "code",
      "source": [
        "d = {\n",
        "    'f1': [], 'f2': [], 'f3': [], 'f4': [], 'f5': [], 'f6': [], 'f7': [], 'f8': [],\n",
        "     'f9': [], 'f10': [], 'f11': [], 'f12': [], 'f13': [], 'f14': [], 'f15': []\n",
        "}"
      ],
      "metadata": {
        "id": "T2BNnff09f8Y"
      },
      "execution_count": null,
      "outputs": []
    },
    {
      "cell_type": "code",
      "source": [
        "for val in shap_values:\n",
        "    arr = np.argsort(shap_values)[::-1][:15]\n",
        "    for idx, a in enumerate(arr):\n",
        "        name_feat = f'feature_{idx + 1}'\n",
        "        f[name_feat].append(features[a])"
      ],
      "metadata": {
        "id": "fXruZ0nKxAVW"
      },
      "execution_count": null,
      "outputs": []
    },
    {
      "cell_type": "code",
      "source": [
        "for val in shap_values:\n",
        "    arr = np.argsort(val)[::-1][:15]\n",
        "    for idx, a in enumerate(arr):\n",
        "        name_feat = f'f{idx + 1}'\n",
        "        d[name_feat].append(features[a])"
      ],
      "metadata": {
        "id": "r4DStItR9_SF"
      },
      "execution_count": null,
      "outputs": []
    },
    {
      "cell_type": "code",
      "source": [
        "len(d['f1']) / 2"
      ],
      "metadata": {
        "colab": {
          "base_uri": "https://localhost:8080/"
        },
        "id": "kGGEgESECPo1",
        "outputId": "0ca0f24d-1366-4ce2-f93d-345f73926328"
      },
      "execution_count": null,
      "outputs": [
        {
          "output_type": "execute_result",
          "data": {
            "text/plain": [
              "3680.0"
            ]
          },
          "metadata": {},
          "execution_count": 49
        }
      ]
    },
    {
      "cell_type": "code",
      "source": [
        "sample_sub['target'] = preds_test\n",
        "sample_sub['feature_1'] = d['f1']\n",
        "sample_sub['feature_2'] = d['f2']\n",
        "sample_sub['feature_3'] = d['f3']\n",
        "sample_sub['feature_4'] = d['f4']\n",
        "sample_sub['feature_5'] = d['f5']\n",
        "sample_sub['feature_6'] = d['f6']\n",
        "sample_sub['feature_7'] = d['f7']\n",
        "sample_sub['feature_8'] = d['f8']\n",
        "sample_sub['feature_9'] = d['f9']\n",
        "sample_sub['feature_10'] = d['f10']\n",
        "sample_sub['feature_11'] = d['f11']\n",
        "sample_sub['feature_12'] = d['f12']\n",
        "sample_sub['feature_13'] = d['f13']\n",
        "sample_sub['feature_14'] = d['f14']\n",
        "sample_sub['feature_15'] = d['f15']"
      ],
      "metadata": {
        "id": "PIoTi4v27S9t"
      },
      "execution_count": null,
      "outputs": []
    },
    {
      "cell_type": "code",
      "source": [
        "sample_sub"
      ],
      "metadata": {
        "colab": {
          "base_uri": "https://localhost:8080/",
          "height": 488
        },
        "id": "xRU_ggEN8kqc",
        "outputId": "1558d628-57e7-4a2b-c3f9-b406be90788e"
      },
      "execution_count": null,
      "outputs": [
        {
          "output_type": "execute_result",
          "data": {
            "text/plain": [
              "          child_id     target                feature_1  \\\n",
              "0     ID_0I0999N6S  55.574123   child_observe_diligent   \n",
              "1     ID_GQ6ONJ4FP  44.996617  teacher_emotional_total   \n",
              "2     ID_YZ76CVRW3  49.686945            id_enumerator   \n",
              "3     ID_BNINCRXH8  67.579214   child_observe_diligent   \n",
              "4     ID_1U7GDTLRI  45.724509   child_observe_diligent   \n",
              "...            ...        ...                      ...   \n",
              "3675  ID_LBPQ2VMQZ  55.452823                child_age   \n",
              "3676  ID_H2RKKMMKK  51.264259          child_age_group   \n",
              "3677  ID_VY8KX7YTZ  43.490205   child_observe_diligent   \n",
              "3678  ID_EO2MYZ4M7  36.703462                  mn_best   \n",
              "3679  ID_NSFLRZ8ZU  43.125945          child_age_group   \n",
              "\n",
              "                     feature_2                 feature_3  \\\n",
              "0      teacher_emotional_total   child_observe_attentive   \n",
              "1      child_observe_attentive    child_observe_diligent   \n",
              "2       child_observe_diligent                   mn_best   \n",
              "3                id_enumerator   child_observe_attentive   \n",
              "4     child_observe_interested   child_observe_attentive   \n",
              "...                        ...                       ...   \n",
              "3675           child_age_group  child_observe_interested   \n",
              "3676                 child_age              child_height   \n",
              "3677   child_observe_attentive                 child_age   \n",
              "3678               id_facility                 child_zha   \n",
              "3679             id_enumerator                 child_age   \n",
              "\n",
              "                       feature_4                 feature_5  \\\n",
              "0       child_observe_interested       child_observe_total   \n",
              "1            child_observe_total  child_observe_interested   \n",
              "2                      prov_best                child_date   \n",
              "3     child_observe_concentrated                 child_age   \n",
              "4                 pri_attendance                 prov_best   \n",
              "...                          ...                       ...   \n",
              "3675     child_observe_attentive                 ses_proxy   \n",
              "3676               id_enumerator                 ward_best   \n",
              "3677         child_observe_total  child_observe_interested   \n",
              "3678           obs_handwashing_1              child_gender   \n",
              "3679                     mn_best                 prov_best   \n",
              "\n",
              "                          feature_6                      feature_7  \\\n",
              "0     teacher_emotional_selfstarter       child_years_in_programme   \n",
              "1        child_observe_concentrated  teacher_emotional_selfstarter   \n",
              "2                           id_team        child_observe_attentive   \n",
              "3               child_observe_total                      prov_best   \n",
              "4               child_observe_total       pri_registered_programme   \n",
              "...                             ...                            ...   \n",
              "3675                  child_stunted                        mn_best   \n",
              "3676              obs_handwashing_1                        mn_best   \n",
              "3677     child_observe_concentrated                  obs_materials   \n",
              "3678                     id_mn_best       count_register_year_2020   \n",
              "3679                      ward_best                        id_team   \n",
              "\n",
              "                          feature_8                      feature_9  \\\n",
              "0     teacher_emotional_independent                   child_gender   \n",
              "1             teacher_emotional_met   teacher_emotional_understand   \n",
              "2                           id_prov       child_observe_interested   \n",
              "3                           mn_best        teacher_emotional_total   \n",
              "4      teacher_emotional_understand                        id_prov   \n",
              "...                             ...                            ...   \n",
              "3675   teacher_emotional_understand  teacher_emotional_selfstarter   \n",
              "3676                      child_zha                   child_gender   \n",
              "3677                   child_gender  teacher_emotional_selfstarter   \n",
              "3678                 pri_language_7                  obs_materials   \n",
              "3679                     id_mn_best                     id_dc_best   \n",
              "\n",
              "                        feature_10                    feature_11  \\\n",
              "0     teacher_emotional_understand         teacher_emotional_met   \n",
              "1             teacher_social_peers                  child_gender   \n",
              "2                       id_mn_best  teacher_emotional_understand   \n",
              "3                    child_stunted      child_observe_interested   \n",
              "4                        longitude                       id_ward   \n",
              "...                            ...                           ...   \n",
              "3675                     prov_best      child_years_in_programme   \n",
              "3676                     prov_best                       id_team   \n",
              "3677                    child_date      count_register_year_2020   \n",
              "3678                    pri_meal_2        count_children_present   \n",
              "3679                     longitude      count_register_year_2020   \n",
              "\n",
              "                         feature_12                     feature_13  \\\n",
              "0              teacher_social_peers                pri_fees_amount   \n",
              "1          count_register_year_2020  teacher_emotional_independent   \n",
              "2                 obs_handwashing_1       count_register_year_2020   \n",
              "3      teacher_emotional_understand       child_years_in_programme   \n",
              "4                           id_team      teacher_social_assistance   \n",
              "...                             ...                            ...   \n",
              "3675  teacher_emotional_independent           teacher_social_peers   \n",
              "3676                        id_ward                     id_mn_best   \n",
              "3677                 pri_attendance                     pri_meal_2   \n",
              "3678                  id_enumerator                      child_dob   \n",
              "3679                        id_prov                        id_ward   \n",
              "\n",
              "                            feature_14                        feature_15  \n",
              "0                              id_team                           ses_cat  \n",
              "1               count_children_present                   pri_fees_amount  \n",
              "2                  child_observe_total                   pri_fees_amount  \n",
              "3        teacher_emotional_selfstarter                        child_date  \n",
              "4             count_register_year_2020                       id_facility  \n",
              "...                                ...                               ...  \n",
              "3675                        child_date                        id_mn_best  \n",
              "3676                   pri_fees_amount          count_register_year_2020  \n",
              "3677  certificate_registration_program                      pri_holidays  \n",
              "3678                      pri_separate  certificate_registration_program  \n",
              "3679                           dc_best            count_children_present  \n",
              "\n",
              "[3680 rows x 17 columns]"
            ],
            "text/html": [
              "\n",
              "  <div id=\"df-a69488f4-2cb7-48cb-af03-2436800770cc\">\n",
              "    <div class=\"colab-df-container\">\n",
              "      <div>\n",
              "<style scoped>\n",
              "    .dataframe tbody tr th:only-of-type {\n",
              "        vertical-align: middle;\n",
              "    }\n",
              "\n",
              "    .dataframe tbody tr th {\n",
              "        vertical-align: top;\n",
              "    }\n",
              "\n",
              "    .dataframe thead th {\n",
              "        text-align: right;\n",
              "    }\n",
              "</style>\n",
              "<table border=\"1\" class=\"dataframe\">\n",
              "  <thead>\n",
              "    <tr style=\"text-align: right;\">\n",
              "      <th></th>\n",
              "      <th>child_id</th>\n",
              "      <th>target</th>\n",
              "      <th>feature_1</th>\n",
              "      <th>feature_2</th>\n",
              "      <th>feature_3</th>\n",
              "      <th>feature_4</th>\n",
              "      <th>feature_5</th>\n",
              "      <th>feature_6</th>\n",
              "      <th>feature_7</th>\n",
              "      <th>feature_8</th>\n",
              "      <th>feature_9</th>\n",
              "      <th>feature_10</th>\n",
              "      <th>feature_11</th>\n",
              "      <th>feature_12</th>\n",
              "      <th>feature_13</th>\n",
              "      <th>feature_14</th>\n",
              "      <th>feature_15</th>\n",
              "    </tr>\n",
              "  </thead>\n",
              "  <tbody>\n",
              "    <tr>\n",
              "      <th>0</th>\n",
              "      <td>ID_0I0999N6S</td>\n",
              "      <td>55.574123</td>\n",
              "      <td>child_observe_diligent</td>\n",
              "      <td>teacher_emotional_total</td>\n",
              "      <td>child_observe_attentive</td>\n",
              "      <td>child_observe_interested</td>\n",
              "      <td>child_observe_total</td>\n",
              "      <td>teacher_emotional_selfstarter</td>\n",
              "      <td>child_years_in_programme</td>\n",
              "      <td>teacher_emotional_independent</td>\n",
              "      <td>child_gender</td>\n",
              "      <td>teacher_emotional_understand</td>\n",
              "      <td>teacher_emotional_met</td>\n",
              "      <td>teacher_social_peers</td>\n",
              "      <td>pri_fees_amount</td>\n",
              "      <td>id_team</td>\n",
              "      <td>ses_cat</td>\n",
              "    </tr>\n",
              "    <tr>\n",
              "      <th>1</th>\n",
              "      <td>ID_GQ6ONJ4FP</td>\n",
              "      <td>44.996617</td>\n",
              "      <td>teacher_emotional_total</td>\n",
              "      <td>child_observe_attentive</td>\n",
              "      <td>child_observe_diligent</td>\n",
              "      <td>child_observe_total</td>\n",
              "      <td>child_observe_interested</td>\n",
              "      <td>child_observe_concentrated</td>\n",
              "      <td>teacher_emotional_selfstarter</td>\n",
              "      <td>teacher_emotional_met</td>\n",
              "      <td>teacher_emotional_understand</td>\n",
              "      <td>teacher_social_peers</td>\n",
              "      <td>child_gender</td>\n",
              "      <td>count_register_year_2020</td>\n",
              "      <td>teacher_emotional_independent</td>\n",
              "      <td>count_children_present</td>\n",
              "      <td>pri_fees_amount</td>\n",
              "    </tr>\n",
              "    <tr>\n",
              "      <th>2</th>\n",
              "      <td>ID_YZ76CVRW3</td>\n",
              "      <td>49.686945</td>\n",
              "      <td>id_enumerator</td>\n",
              "      <td>child_observe_diligent</td>\n",
              "      <td>mn_best</td>\n",
              "      <td>prov_best</td>\n",
              "      <td>child_date</td>\n",
              "      <td>id_team</td>\n",
              "      <td>child_observe_attentive</td>\n",
              "      <td>id_prov</td>\n",
              "      <td>child_observe_interested</td>\n",
              "      <td>id_mn_best</td>\n",
              "      <td>teacher_emotional_understand</td>\n",
              "      <td>obs_handwashing_1</td>\n",
              "      <td>count_register_year_2020</td>\n",
              "      <td>child_observe_total</td>\n",
              "      <td>pri_fees_amount</td>\n",
              "    </tr>\n",
              "    <tr>\n",
              "      <th>3</th>\n",
              "      <td>ID_BNINCRXH8</td>\n",
              "      <td>67.579214</td>\n",
              "      <td>child_observe_diligent</td>\n",
              "      <td>id_enumerator</td>\n",
              "      <td>child_observe_attentive</td>\n",
              "      <td>child_observe_concentrated</td>\n",
              "      <td>child_age</td>\n",
              "      <td>child_observe_total</td>\n",
              "      <td>prov_best</td>\n",
              "      <td>mn_best</td>\n",
              "      <td>teacher_emotional_total</td>\n",
              "      <td>child_stunted</td>\n",
              "      <td>child_observe_interested</td>\n",
              "      <td>teacher_emotional_understand</td>\n",
              "      <td>child_years_in_programme</td>\n",
              "      <td>teacher_emotional_selfstarter</td>\n",
              "      <td>child_date</td>\n",
              "    </tr>\n",
              "    <tr>\n",
              "      <th>4</th>\n",
              "      <td>ID_1U7GDTLRI</td>\n",
              "      <td>45.724509</td>\n",
              "      <td>child_observe_diligent</td>\n",
              "      <td>child_observe_interested</td>\n",
              "      <td>child_observe_attentive</td>\n",
              "      <td>pri_attendance</td>\n",
              "      <td>prov_best</td>\n",
              "      <td>child_observe_total</td>\n",
              "      <td>pri_registered_programme</td>\n",
              "      <td>teacher_emotional_understand</td>\n",
              "      <td>id_prov</td>\n",
              "      <td>longitude</td>\n",
              "      <td>id_ward</td>\n",
              "      <td>id_team</td>\n",
              "      <td>teacher_social_assistance</td>\n",
              "      <td>count_register_year_2020</td>\n",
              "      <td>id_facility</td>\n",
              "    </tr>\n",
              "    <tr>\n",
              "      <th>...</th>\n",
              "      <td>...</td>\n",
              "      <td>...</td>\n",
              "      <td>...</td>\n",
              "      <td>...</td>\n",
              "      <td>...</td>\n",
              "      <td>...</td>\n",
              "      <td>...</td>\n",
              "      <td>...</td>\n",
              "      <td>...</td>\n",
              "      <td>...</td>\n",
              "      <td>...</td>\n",
              "      <td>...</td>\n",
              "      <td>...</td>\n",
              "      <td>...</td>\n",
              "      <td>...</td>\n",
              "      <td>...</td>\n",
              "      <td>...</td>\n",
              "    </tr>\n",
              "    <tr>\n",
              "      <th>3675</th>\n",
              "      <td>ID_LBPQ2VMQZ</td>\n",
              "      <td>55.452823</td>\n",
              "      <td>child_age</td>\n",
              "      <td>child_age_group</td>\n",
              "      <td>child_observe_interested</td>\n",
              "      <td>child_observe_attentive</td>\n",
              "      <td>ses_proxy</td>\n",
              "      <td>child_stunted</td>\n",
              "      <td>mn_best</td>\n",
              "      <td>teacher_emotional_understand</td>\n",
              "      <td>teacher_emotional_selfstarter</td>\n",
              "      <td>prov_best</td>\n",
              "      <td>child_years_in_programme</td>\n",
              "      <td>teacher_emotional_independent</td>\n",
              "      <td>teacher_social_peers</td>\n",
              "      <td>child_date</td>\n",
              "      <td>id_mn_best</td>\n",
              "    </tr>\n",
              "    <tr>\n",
              "      <th>3676</th>\n",
              "      <td>ID_H2RKKMMKK</td>\n",
              "      <td>51.264259</td>\n",
              "      <td>child_age_group</td>\n",
              "      <td>child_age</td>\n",
              "      <td>child_height</td>\n",
              "      <td>id_enumerator</td>\n",
              "      <td>ward_best</td>\n",
              "      <td>obs_handwashing_1</td>\n",
              "      <td>mn_best</td>\n",
              "      <td>child_zha</td>\n",
              "      <td>child_gender</td>\n",
              "      <td>prov_best</td>\n",
              "      <td>id_team</td>\n",
              "      <td>id_ward</td>\n",
              "      <td>id_mn_best</td>\n",
              "      <td>pri_fees_amount</td>\n",
              "      <td>count_register_year_2020</td>\n",
              "    </tr>\n",
              "    <tr>\n",
              "      <th>3677</th>\n",
              "      <td>ID_VY8KX7YTZ</td>\n",
              "      <td>43.490205</td>\n",
              "      <td>child_observe_diligent</td>\n",
              "      <td>child_observe_attentive</td>\n",
              "      <td>child_age</td>\n",
              "      <td>child_observe_total</td>\n",
              "      <td>child_observe_interested</td>\n",
              "      <td>child_observe_concentrated</td>\n",
              "      <td>obs_materials</td>\n",
              "      <td>child_gender</td>\n",
              "      <td>teacher_emotional_selfstarter</td>\n",
              "      <td>child_date</td>\n",
              "      <td>count_register_year_2020</td>\n",
              "      <td>pri_attendance</td>\n",
              "      <td>pri_meal_2</td>\n",
              "      <td>certificate_registration_program</td>\n",
              "      <td>pri_holidays</td>\n",
              "    </tr>\n",
              "    <tr>\n",
              "      <th>3678</th>\n",
              "      <td>ID_EO2MYZ4M7</td>\n",
              "      <td>36.703462</td>\n",
              "      <td>mn_best</td>\n",
              "      <td>id_facility</td>\n",
              "      <td>child_zha</td>\n",
              "      <td>obs_handwashing_1</td>\n",
              "      <td>child_gender</td>\n",
              "      <td>id_mn_best</td>\n",
              "      <td>count_register_year_2020</td>\n",
              "      <td>pri_language_7</td>\n",
              "      <td>obs_materials</td>\n",
              "      <td>pri_meal_2</td>\n",
              "      <td>count_children_present</td>\n",
              "      <td>id_enumerator</td>\n",
              "      <td>child_dob</td>\n",
              "      <td>pri_separate</td>\n",
              "      <td>certificate_registration_program</td>\n",
              "    </tr>\n",
              "    <tr>\n",
              "      <th>3679</th>\n",
              "      <td>ID_NSFLRZ8ZU</td>\n",
              "      <td>43.125945</td>\n",
              "      <td>child_age_group</td>\n",
              "      <td>id_enumerator</td>\n",
              "      <td>child_age</td>\n",
              "      <td>mn_best</td>\n",
              "      <td>prov_best</td>\n",
              "      <td>ward_best</td>\n",
              "      <td>id_team</td>\n",
              "      <td>id_mn_best</td>\n",
              "      <td>id_dc_best</td>\n",
              "      <td>longitude</td>\n",
              "      <td>count_register_year_2020</td>\n",
              "      <td>id_prov</td>\n",
              "      <td>id_ward</td>\n",
              "      <td>dc_best</td>\n",
              "      <td>count_children_present</td>\n",
              "    </tr>\n",
              "  </tbody>\n",
              "</table>\n",
              "<p>3680 rows × 17 columns</p>\n",
              "</div>\n",
              "      <button class=\"colab-df-convert\" onclick=\"convertToInteractive('df-a69488f4-2cb7-48cb-af03-2436800770cc')\"\n",
              "              title=\"Convert this dataframe to an interactive table.\"\n",
              "              style=\"display:none;\">\n",
              "        \n",
              "  <svg xmlns=\"http://www.w3.org/2000/svg\" height=\"24px\"viewBox=\"0 0 24 24\"\n",
              "       width=\"24px\">\n",
              "    <path d=\"M0 0h24v24H0V0z\" fill=\"none\"/>\n",
              "    <path d=\"M18.56 5.44l.94 2.06.94-2.06 2.06-.94-2.06-.94-.94-2.06-.94 2.06-2.06.94zm-11 1L8.5 8.5l.94-2.06 2.06-.94-2.06-.94L8.5 2.5l-.94 2.06-2.06.94zm10 10l.94 2.06.94-2.06 2.06-.94-2.06-.94-.94-2.06-.94 2.06-2.06.94z\"/><path d=\"M17.41 7.96l-1.37-1.37c-.4-.4-.92-.59-1.43-.59-.52 0-1.04.2-1.43.59L10.3 9.45l-7.72 7.72c-.78.78-.78 2.05 0 2.83L4 21.41c.39.39.9.59 1.41.59.51 0 1.02-.2 1.41-.59l7.78-7.78 2.81-2.81c.8-.78.8-2.07 0-2.86zM5.41 20L4 18.59l7.72-7.72 1.47 1.35L5.41 20z\"/>\n",
              "  </svg>\n",
              "      </button>\n",
              "      \n",
              "  <style>\n",
              "    .colab-df-container {\n",
              "      display:flex;\n",
              "      flex-wrap:wrap;\n",
              "      gap: 12px;\n",
              "    }\n",
              "\n",
              "    .colab-df-convert {\n",
              "      background-color: #E8F0FE;\n",
              "      border: none;\n",
              "      border-radius: 50%;\n",
              "      cursor: pointer;\n",
              "      display: none;\n",
              "      fill: #1967D2;\n",
              "      height: 32px;\n",
              "      padding: 0 0 0 0;\n",
              "      width: 32px;\n",
              "    }\n",
              "\n",
              "    .colab-df-convert:hover {\n",
              "      background-color: #E2EBFA;\n",
              "      box-shadow: 0px 1px 2px rgba(60, 64, 67, 0.3), 0px 1px 3px 1px rgba(60, 64, 67, 0.15);\n",
              "      fill: #174EA6;\n",
              "    }\n",
              "\n",
              "    [theme=dark] .colab-df-convert {\n",
              "      background-color: #3B4455;\n",
              "      fill: #D2E3FC;\n",
              "    }\n",
              "\n",
              "    [theme=dark] .colab-df-convert:hover {\n",
              "      background-color: #434B5C;\n",
              "      box-shadow: 0px 1px 3px 1px rgba(0, 0, 0, 0.15);\n",
              "      filter: drop-shadow(0px 1px 2px rgba(0, 0, 0, 0.3));\n",
              "      fill: #FFFFFF;\n",
              "    }\n",
              "  </style>\n",
              "\n",
              "      <script>\n",
              "        const buttonEl =\n",
              "          document.querySelector('#df-a69488f4-2cb7-48cb-af03-2436800770cc button.colab-df-convert');\n",
              "        buttonEl.style.display =\n",
              "          google.colab.kernel.accessAllowed ? 'block' : 'none';\n",
              "\n",
              "        async function convertToInteractive(key) {\n",
              "          const element = document.querySelector('#df-a69488f4-2cb7-48cb-af03-2436800770cc');\n",
              "          const dataTable =\n",
              "            await google.colab.kernel.invokeFunction('convertToInteractive',\n",
              "                                                     [key], {});\n",
              "          if (!dataTable) return;\n",
              "\n",
              "          const docLinkHtml = 'Like what you see? Visit the ' +\n",
              "            '<a target=\"_blank\" href=https://colab.research.google.com/notebooks/data_table.ipynb>data table notebook</a>'\n",
              "            + ' to learn more about interactive tables.';\n",
              "          element.innerHTML = '';\n",
              "          dataTable['output_type'] = 'display_data';\n",
              "          await google.colab.output.renderOutput(dataTable, element);\n",
              "          const docLink = document.createElement('div');\n",
              "          docLink.innerHTML = docLinkHtml;\n",
              "          element.appendChild(docLink);\n",
              "        }\n",
              "      </script>\n",
              "    </div>\n",
              "  </div>\n",
              "  "
            ]
          },
          "metadata": {},
          "execution_count": 58
        }
      ]
    },
    {
      "cell_type": "code",
      "source": [
        "sample_sub.to_csv('solution.csv', index=False)"
      ],
      "metadata": {
        "id": "TQk82MAD8l_X"
      },
      "execution_count": null,
      "outputs": []
    },
    {
      "cell_type": "markdown",
      "source": [
        "## Upgrading The Model\n",
        "From the baseline model above, we can get the first 20-30 features are are common and do more engineering on them"
      ],
      "metadata": {
        "id": "Tngo_7K7GFWr"
      }
    },
    {
      "cell_type": "code",
      "source": [
        "# Getting more relevant features\n",
        "feature_importance = model.feature_importances_\n",
        "sorted_idx = np.argsort(feature_importance)[-20:]\n",
        "top_features = np.array(X_test.columns)[sorted_idx]\n",
        "\n",
        "fig, ax = plt.subplots(figsize=(12, 6))\n",
        "sns.barplot(x=feature_importance[sorted_idx], y=top_features, palette='mako', orient='h')\n",
        "ax.set_title('Feature Importance (top 20)', fontsize=16)\n",
        "ax.set_xlabel('Importance', fontsize=14)\n",
        "ax.set_ylabel('Feature', fontsize=14)\n",
        "plt.show()\n"
      ],
      "metadata": {
        "colab": {
          "base_uri": "https://localhost:8080/",
          "height": 452
        },
        "id": "X_ugKH20K6eA",
        "outputId": "cf0e4364-7afe-4ef5-8d1a-281a2b09904f"
      },
      "execution_count": null,
      "outputs": [
        {
          "output_type": "display_data",
          "data": {
            "text/plain": [
              "<Figure size 1200x600 with 1 Axes>"
            ],
            "image/png": "[encoded data removed]"
          },
          "metadata": {}
        }
      ]
    },
    {
      "cell_type": "code",
      "source": [],
      "metadata": {
        "id": "he61BRnjMhGX"
      },
      "execution_count": null,
      "outputs": []
    }
  ]
}